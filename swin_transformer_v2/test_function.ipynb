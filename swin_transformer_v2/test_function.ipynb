{
 "cells": [
  {
   "cell_type": "code",
   "execution_count": 7,
   "metadata": {},
   "outputs": [],
   "source": [
    "import torch"
   ]
  },
  {
   "cell_type": "code",
   "execution_count": 25,
   "metadata": {},
   "outputs": [],
   "source": [
    "def unfold(input: torch.Tensor,\n",
    "           window_size: tuple): #torch.Tensor\n",
    "    \"\"\"\n",
    "    Unfolds (non-overlapping) a given feature map by the given window size (stride = window size)\n",
    "    :param input: (torch.Tensor) Input feature map of the shape [batch size, channels, height, width]\n",
    "    :param window_size: (int) Window size to be applied\n",
    "    :return: (torch.Tensor) Unfolded tensor of the shape [batch size * windows, channels, window size, window size]\n",
    "    \"\"\"\n",
    "    # Get original shape\n",
    "    _, channels, height, width = input.shape  \n",
    "    # type: int, int, int, int\n",
    "    # Unfold input\n",
    "    output: torch.Tensor = input.unfold(dimension=3, size=window_size[1], step=window_size[1]) \\\n",
    "        .unfold(dimension=2, size=window_size[0], step=window_size[0])\n",
    "    # Reshape to [batch size * windows, channels, window size, window size]\n",
    "    output: torch.Tensor = output.permute(0, 2, 3, 1, 5, 4).reshape(-1, channels, window_size[0], window_size[1])\n",
    "    # (B* windows, channel, H_winsize, W_winsize)\n",
    "    return output"
   ]
  },
  {
   "cell_type": "code",
   "execution_count": 27,
   "metadata": {},
   "outputs": [
    {
     "name": "stdout",
     "output_type": "stream",
     "text": [
      "tensor([[ 0.2551,  1.9334,  0.3962,  ...,  0.7247,  0.5572,  0.7516],\n",
      "        [-0.2861, -2.3457,  0.6616,  ..., -2.9714, -1.3034, -0.2616],\n",
      "        [ 0.6227, -0.3296, -0.5444,  ..., -2.6347,  0.3530,  0.4950],\n",
      "        ...,\n",
      "        [-0.7737,  0.7538,  0.7473,  ..., -0.9864, -2.0080, -0.4005],\n",
      "        [-0.4337,  2.3665,  0.1365,  ..., -0.0404,  0.4469, -1.0898],\n",
      "        [-2.5206, -0.7545,  1.9392,  ..., -0.2799, -0.2950,  0.7595]])\n",
      "torch.Size([4096, 3, 6, 20])\n"
     ]
    }
   ],
   "source": [
    "dummy=torch.randn(4, 3, 192, 640)\n",
    "print(dummy[0][0])\n",
    "win_size=(6,20)\n",
    "result=unfold(dummy, win_size)\n",
    "print(result.shape)"
   ]
  },
  {
   "cell_type": "code",
   "execution_count": 29,
   "metadata": {},
   "outputs": [],
   "source": [
    "def fold(input: torch.Tensor,\n",
    "         window_size: tuple,\n",
    "         height: int,\n",
    "         width: int):# torch.Tensor\n",
    "    \"\"\"\n",
    "    Fold a tensor of windows again to a 4D feature map\n",
    "    :param input: (torch.Tensor) Input tensor of windows [batch size * windows, channels, h_window size, w_window size]\n",
    "    :param window_size: (int) Window size to be reversed\n",
    "    :param height: (int) Height of the feature map\n",
    "    :param width: (int) Width of the feature map\n",
    "    :return: (torch.Tensor) Folded output tensor of the shape [batch size, channels, height, width]\n",
    "    \"\"\"\n",
    "    # Get channels of windows\n",
    "    channels: int = input.shape[1]\n",
    "    # Get original batch size\n",
    "    batch_size: int = int(input.shape[0] // (height * width // window_size[0] // window_size[1]))\n",
    "    # Reshape input to\n",
    "    output: torch.Tensor = input.view(batch_size, height // window_size[0], width // window_size[1], channels,\n",
    "                                      window_size[0], window_size[1])\n",
    "    output: torch.Tensor = output.permute(0, 3, 1, 4, 2, 5).reshape(batch_size, channels, height, width)\n",
    "    return output"
   ]
  },
  {
   "cell_type": "code",
   "execution_count": 32,
   "metadata": {},
   "outputs": [
    {
     "name": "stdout",
     "output_type": "stream",
     "text": [
      "torch.Size([4, 3, 192, 640])\n",
      "tensor([[ 0.2551,  1.9334,  0.3962,  ...,  0.7247,  0.5572,  0.7516],\n",
      "        [-0.2861, -2.3457,  0.6616,  ..., -2.9714, -1.3034, -0.2616],\n",
      "        [ 0.6227, -0.3296, -0.5444,  ..., -2.6347,  0.3530,  0.4950],\n",
      "        ...,\n",
      "        [-0.7737,  0.7538,  0.7473,  ..., -0.9864, -2.0080, -0.4005],\n",
      "        [-0.4337,  2.3665,  0.1365,  ..., -0.0404,  0.4469, -1.0898],\n",
      "        [-2.5206, -0.7545,  1.9392,  ..., -0.2799, -0.2950,  0.7595]])\n"
     ]
    }
   ],
   "source": [
    "recover=fold(result, (6, 20), 192, 640)\n",
    "print(recover.shape)\n",
    "print(recover[0][0])"
   ]
  },
  {
   "cell_type": "code",
   "execution_count": 38,
   "metadata": {},
   "outputs": [
    {
     "data": {
      "text/plain": [
       "(3, 10)"
      ]
     },
     "execution_count": 38,
     "metadata": {},
     "output_type": "execute_result"
    }
   ],
   "source": [
    "x=(6,20)\n",
    "y=(x[0]//2, x[1]//2)\n",
    "y"
   ]
  },
  {
   "cell_type": "code",
   "execution_count": 1,
   "metadata": {},
   "outputs": [
    {
     "name": "stdout",
     "output_type": "stream",
     "text": [
      "0\n",
      "1\n",
      "2\n",
      "3\n"
     ]
    }
   ],
   "source": [
    "for i in range(4):\n",
    "    print(i)"
   ]
  }
 ],
 "metadata": {
  "kernelspec": {
   "display_name": "Python 3.10.4 ('torchstudy')",
   "language": "python",
   "name": "python3"
  },
  "language_info": {
   "codemirror_mode": {
    "name": "ipython",
    "version": 3
   },
   "file_extension": ".py",
   "mimetype": "text/x-python",
   "name": "python",
   "nbconvert_exporter": "python",
   "pygments_lexer": "ipython3",
   "version": "3.10.4"
  },
  "orig_nbformat": 4,
  "vscode": {
   "interpreter": {
    "hash": "d2a29e84b0c43c20c166437993d835aa1a00044783bb297f1abc4254f32cfca7"
   }
  }
 },
 "nbformat": 4,
 "nbformat_minor": 2
}
